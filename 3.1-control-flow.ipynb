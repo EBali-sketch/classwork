{
 "cells": [
  {
   "cell_type": "markdown",
   "id": "2e635b94",
   "metadata": {},
   "source": [
    "Type Hinting\n",
    "\n",
    "Boolean operations\n",
    "\n",
    "Comparision\n",
    "\n",
    "Truthy/Falsy\n",
    "\n",
    "in, or, not, and\n",
    "\n",
    "if statements\n",
    "\n",
    "nested ifs\n",
    "\n",
    "one-line ifs\n",
    "\n",
    "validation\n",
    "\n",
    "try-except"
   ]
  },
  {
   "cell_type": "code",
   "execution_count": 2,
   "id": "5090236a",
   "metadata": {},
   "outputs": [
    {
     "data": {
      "text/plain": [
       "str"
      ]
     },
     "execution_count": 2,
     "metadata": {},
     "output_type": "execute_result"
    }
   ],
   "source": [
    "# simple type hinting (str, float, int, bool)\n",
    "string: str = \"it's in quotes\"\n",
    "type(string)"
   ]
  },
  {
   "cell_type": "code",
   "execution_count": null,
   "id": "6d5a1024",
   "metadata": {},
   "outputs": [],
   "source": []
  }
 ],
 "metadata": {
  "kernelspec": {
   "display_name": "CDA101",
   "language": "python",
   "name": "python3"
  },
  "language_info": {
   "codemirror_mode": {
    "name": "ipython",
    "version": 3
   },
   "file_extension": ".py",
   "mimetype": "text/x-python",
   "name": "python",
   "nbconvert_exporter": "python",
   "pygments_lexer": "ipython3",
   "version": "3.13.5"
  }
 },
 "nbformat": 4,
 "nbformat_minor": 5
}
