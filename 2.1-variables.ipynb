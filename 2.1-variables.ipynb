{
 "cells": [
  {
   "cell_type": "code",
   "execution_count": null,
   "id": "07d9d00a",
   "metadata": {},
   "outputs": [],
   "source": [
    "# Comments are not read by the Python Interpreter. "
   ]
  },
  {
   "cell_type": "markdown",
   "id": "06c4a984",
   "metadata": {},
   "source": [
    "## Varibales\n"
   ]
  },
  {
   "cell_type": "code",
   "execution_count": 1,
   "id": "2aac91cf",
   "metadata": {},
   "outputs": [],
   "source": [
    "var = \"My Variable\""
   ]
  },
  {
   "cell_type": "code",
   "execution_count": 2,
   "id": "a8010097",
   "metadata": {},
   "outputs": [
    {
     "name": "stdout",
     "output_type": "stream",
     "text": [
      "My Variable\n"
     ]
    }
   ],
   "source": [
    "print(var)"
   ]
  },
  {
   "cell_type": "markdown",
   "id": "4ada975f",
   "metadata": {},
   "source": [
    "## Naming Conventions\n",
    "\n",
    "snake_case\n",
    "\n",
    "camelCase\n",
    "\n",
    "PascalCase"
   ]
  },
  {
   "cell_type": "code",
   "execution_count": 4,
   "id": "f2b689c7",
   "metadata": {},
   "outputs": [],
   "source": [
    "my_variable = \"A new variable\""
   ]
  },
  {
   "cell_type": "markdown",
   "id": "7a32436f",
   "metadata": {},
   "source": [
    "Basic Data Types"
   ]
  },
  {
   "cell_type": "code",
   "execution_count": 11,
   "id": "2d3d8c6b",
   "metadata": {},
   "outputs": [
    {
     "name": "stdout",
     "output_type": "stream",
     "text": [
      "12,345a;sdjkfla;😀\n"
     ]
    },
    {
     "data": {
      "text/plain": [
       "'what our string is'"
      ]
     },
     "execution_count": 11,
     "metadata": {},
     "output_type": "execute_result"
    }
   ],
   "source": [
    "# Strings, ints, floats, boolean\n",
    "\n",
    "my_str = \"12,345a;sdjkfla;😀\"\n",
    "str2 = str(\"what our string is\")\n",
    "print(my_str)\n",
    "str2"
   ]
  },
  {
   "cell_type": "code",
   "execution_count": 16,
   "id": "c6ad6a75",
   "metadata": {},
   "outputs": [
    {
     "name": "stdout",
     "output_type": "stream",
     "text": [
      "12 21 21\n"
     ]
    }
   ],
   "source": [
    "my_int = 12\n",
    "int2 = int(21)\n",
    "int3 = int(21.923)\n",
    "\n",
    "print(my_int,int2,int3)"
   ]
  },
  {
   "cell_type": "code",
   "execution_count": 19,
   "id": "05eaadc7",
   "metadata": {},
   "outputs": [
    {
     "name": "stdout",
     "output_type": "stream",
     "text": [
      "1.111 1.0\n"
     ]
    }
   ],
   "source": [
    "my_float = 1.111\n",
    "float2 = float(1)\n",
    "print(my_float,float2)"
   ]
  },
  {
   "cell_type": "code",
   "execution_count": 20,
   "id": "48f4cbf7",
   "metadata": {},
   "outputs": [
    {
     "data": {
      "text/plain": [
       "'1.111'"
      ]
     },
     "execution_count": 20,
     "metadata": {},
     "output_type": "execute_result"
    }
   ],
   "source": [
    "str(my_float)"
   ]
  },
  {
   "cell_type": "code",
   "execution_count": 22,
   "id": "0ba26449",
   "metadata": {},
   "outputs": [
    {
     "ename": "ValueError",
     "evalue": "could not convert string to float: '12,345a;sdjkfla;😀'",
     "output_type": "error",
     "traceback": [
      "\u001b[31m---------------------------------------------------------------------------\u001b[39m",
      "\u001b[31mValueError\u001b[39m                                Traceback (most recent call last)",
      "\u001b[36mCell\u001b[39m\u001b[36m \u001b[39m\u001b[32mIn[22]\u001b[39m\u001b[32m, line 1\u001b[39m\n\u001b[32m----> \u001b[39m\u001b[32m1\u001b[39m \u001b[38;5;28mfloat\u001b[39m(my_str)\n",
      "\u001b[31mValueError\u001b[39m: could not convert string to float: '12,345a;sdjkfla;😀'"
     ]
    }
   ],
   "source": [
    "float(my_str)"
   ]
  },
  {
   "cell_type": "code",
   "execution_count": 25,
   "id": "edd88b5b",
   "metadata": {},
   "outputs": [
    {
     "data": {
      "text/plain": [
       "(True, True)"
      ]
     },
     "execution_count": 25,
     "metadata": {},
     "output_type": "execute_result"
    }
   ],
   "source": [
    "# booleans\n",
    "boolean = True \n",
    "my_bool = bool(my_str)\n",
    "boolean, my_bool"
   ]
  },
  {
   "cell_type": "code",
   "execution_count": 26,
   "id": "12bf8774",
   "metadata": {},
   "outputs": [
    {
     "data": {
      "text/plain": [
       "bool"
      ]
     },
     "execution_count": 26,
     "metadata": {},
     "output_type": "execute_result"
    }
   ],
   "source": [
    "type(boolean)"
   ]
  },
  {
   "cell_type": "code",
   "execution_count": 27,
   "id": "7eea73ec",
   "metadata": {},
   "outputs": [
    {
     "data": {
      "text/plain": [
       "str"
      ]
     },
     "execution_count": 27,
     "metadata": {},
     "output_type": "execute_result"
    }
   ],
   "source": [
    "type(my_str)"
   ]
  },
  {
   "cell_type": "code",
   "execution_count": 30,
   "id": "9e93813a",
   "metadata": {},
   "outputs": [
    {
     "data": {
      "text/plain": [
       "False"
      ]
     },
     "execution_count": 30,
     "metadata": {},
     "output_type": "execute_result"
    }
   ],
   "source": [
    "is_greater_than_twelve = my_int > 12\n",
    "is_greater_than_twelve"
   ]
  },
  {
   "cell_type": "code",
   "execution_count": 37,
   "id": "79a6f657",
   "metadata": {},
   "outputs": [
    {
     "name": "stdout",
     "output_type": "stream",
     "text": [
      "12,345A;SDJKFLA;😀 What our string is What Our String Is 1\n"
     ]
    }
   ],
   "source": [
    "a = my_str.upper()\n",
    "b = str2.capitalize()\n",
    "c = str2.title()\n",
    "d = str2.count(\"a\")\n",
    "\n",
    "print(a,b,c,d)"
   ]
  },
  {
   "cell_type": "code",
   "execution_count": 38,
   "id": "6623970e",
   "metadata": {},
   "outputs": [
    {
     "data": {
      "text/plain": [
       "18"
      ]
     },
     "execution_count": 38,
     "metadata": {},
     "output_type": "execute_result"
    }
   ],
   "source": [
    "len(str2)"
   ]
  },
  {
   "cell_type": "code",
   "execution_count": 41,
   "id": "014c5669",
   "metadata": {},
   "outputs": [
    {
     "data": {
      "text/plain": [
       "13"
      ]
     },
     "execution_count": 41,
     "metadata": {},
     "output_type": "execute_result"
    }
   ],
   "source": [
    "int(my_float) + my_int"
   ]
  },
  {
   "cell_type": "code",
   "execution_count": 42,
   "id": "fffb36b1",
   "metadata": {},
   "outputs": [
    {
     "data": {
      "text/plain": [
       "8"
      ]
     },
     "execution_count": 42,
     "metadata": {},
     "output_type": "execute_result"
    }
   ],
   "source": [
    "4*2"
   ]
  },
  {
   "cell_type": "code",
   "execution_count": 43,
   "id": "5d2ad30a",
   "metadata": {},
   "outputs": [
    {
     "data": {
      "text/plain": [
       "2.0"
      ]
     },
     "execution_count": 43,
     "metadata": {},
     "output_type": "execute_result"
    }
   ],
   "source": [
    "4/2"
   ]
  },
  {
   "cell_type": "code",
   "execution_count": 44,
   "id": "3afe587b",
   "metadata": {},
   "outputs": [
    {
     "data": {
      "text/plain": [
       "16"
      ]
     },
     "execution_count": 44,
     "metadata": {},
     "output_type": "execute_result"
    }
   ],
   "source": [
    "4**2"
   ]
  },
  {
   "cell_type": "code",
   "execution_count": 56,
   "id": "626ce0ac",
   "metadata": {},
   "outputs": [
    {
     "data": {
      "text/plain": [
       "124"
      ]
     },
     "execution_count": 56,
     "metadata": {},
     "output_type": "execute_result"
    }
   ],
   "source": [
    "import math\n",
    "neg = 123.22\n",
    "abs(neg)\n",
    "math.ceil((neg))\n"
   ]
  },
  {
   "cell_type": "code",
   "execution_count": null,
   "id": "153b84ff",
   "metadata": {},
   "outputs": [],
   "source": []
  }
 ],
 "metadata": {
  "kernelspec": {
   "display_name": "CDA101",
   "language": "python",
   "name": "python3"
  },
  "language_info": {
   "codemirror_mode": {
    "name": "ipython",
    "version": 3
   },
   "file_extension": ".py",
   "mimetype": "text/x-python",
   "name": "python",
   "nbconvert_exporter": "python",
   "pygments_lexer": "ipython3",
   "version": "3.13.5"
  }
 },
 "nbformat": 4,
 "nbformat_minor": 5
}
