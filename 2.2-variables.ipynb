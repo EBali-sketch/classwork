{
 "cells": [
  {
   "cell_type": "code",
   "execution_count": null,
   "id": "af9facda",
   "metadata": {},
   "outputs": [],
   "source": [
    "# str, int, float, booleans ✅\n",
    "# Complex/collection data types\n",
    "## list, dict, tuple, set\n",
    "# methods\n",
    "# coercing\n",
    "# f-strings\n",
    "# type hinting"
   ]
  },
  {
   "cell_type": "code",
   "execution_count": 83,
   "id": "84db9504",
   "metadata": {},
   "outputs": [
    {
     "data": {
      "text/plain": [
       "(4, 0)"
      ]
     },
     "execution_count": 83,
     "metadata": {},
     "output_type": "execute_result"
    }
   ],
   "source": [
    "# lists\n",
    "## changeable, duplicates, ordered,\n",
    "## index is base 0\n",
    "## length starts @ 1\n",
    "ex_list = [1, 1.0, \"1.0\",True]\n",
    "ex_list1 = list()\n",
    "len(ex_list), len(ex_list1)"
   ]
  },
  {
   "cell_type": "code",
   "execution_count": 84,
   "id": "3f4c1ecc",
   "metadata": {},
   "outputs": [
    {
     "data": {
      "text/plain": [
       "['1.0', True]"
      ]
     },
     "execution_count": 84,
     "metadata": {},
     "output_type": "execute_result"
    }
   ],
   "source": [
    "# accessing list items\n",
    "ex_list[3]\n",
    "# getting last time\n",
    "ex_list[-2]\n",
    "# get series of items\n",
    "ex_list[1:3]\n",
    "# all up to thithe 3rd index\n",
    "ex_list[:3]\n",
    "# all up to a specific index\n",
    "ex_list[2:]\n"
   ]
  },
  {
   "cell_type": "code",
   "execution_count": 85,
   "id": "5dbe1431",
   "metadata": {},
   "outputs": [
    {
     "data": {
      "text/plain": [
       "[1, 2, 3]"
      ]
     },
     "execution_count": 85,
     "metadata": {},
     "output_type": "execute_result"
    }
   ],
   "source": [
    "# list method\n",
    "# pop, append, extend, remove\n",
    "\n",
    "my_list = [1,2,3,4]\n",
    "my_list.pop()\n",
    "my_list\n"
   ]
  },
  {
   "cell_type": "code",
   "execution_count": 86,
   "id": "28ca19c6",
   "metadata": {},
   "outputs": [
    {
     "data": {
      "text/plain": [
       "3"
      ]
     },
     "execution_count": 86,
     "metadata": {},
     "output_type": "execute_result"
    }
   ],
   "source": [
    "new_list = my_list.pop()\n",
    "new_list"
   ]
  },
  {
   "cell_type": "code",
   "execution_count": 87,
   "id": "2d8891d4",
   "metadata": {},
   "outputs": [
    {
     "data": {
      "text/plain": [
       "[1, 1.0, '1.0']"
      ]
     },
     "execution_count": 87,
     "metadata": {},
     "output_type": "execute_result"
    }
   ],
   "source": [
    "ex_list = ex_list[:-1]\n",
    "ex_list"
   ]
  },
  {
   "cell_type": "code",
   "execution_count": 88,
   "id": "6e3160e5",
   "metadata": {},
   "outputs": [
    {
     "data": {
      "text/plain": [
       "[1, 1.0, '1.0', 'True']"
      ]
     },
     "execution_count": 88,
     "metadata": {},
     "output_type": "execute_result"
    }
   ],
   "source": [
    "# append\n",
    "ex_list.append(\"True\")\n",
    "ex_list"
   ]
  },
  {
   "cell_type": "code",
   "execution_count": 89,
   "id": "8c61958a",
   "metadata": {},
   "outputs": [
    {
     "data": {
      "text/plain": [
       "[1, 1.0, '1.0', [1, 2], 'True']"
      ]
     },
     "execution_count": 89,
     "metadata": {},
     "output_type": "execute_result"
    }
   ],
   "source": [
    "ex_list.insert(3,my_list)\n",
    "ex_list"
   ]
  },
  {
   "cell_type": "code",
   "execution_count": 90,
   "id": "a541ace5",
   "metadata": {},
   "outputs": [
    {
     "data": {
      "text/plain": [
       "[['R', 'H', 'B', 'Q', 'K', 'B', 'H', 'R'],\n",
       " ['P', 'P', 'P', 'P', 'P', 'P', 'P', 'P'],\n",
       " ['', '', '', '', '', '', '', ''],\n",
       " ['', '', '', '', '', '', '', ''],\n",
       " ['', '', '', '', '', '', '', ''],\n",
       " ['', '', '', '', '', '', '', ''],\n",
       " ['P', 'P', 'P', 'P', 'P', 'P', 'P', 'P'],\n",
       " ['R', 'H', 'B', 'Q', 'K', 'B', 'H', 'R']]"
      ]
     },
     "execution_count": 90,
     "metadata": {},
     "output_type": "execute_result"
    }
   ],
   "source": [
    "good_pieces = [\"R\",\"H\",\"B\",\"Q\",\"K\",\"B\",\"H\",\"R\"]\n",
    "pawns= [\"P\"] * 8\n",
    "empties = [\"\"] * 8\n",
    "chess = [\n",
    "    good_pieces.copy(),\n",
    "    pawns.copy(),\n",
    "    empties.copy(),\n",
    "    empties.copy(),\n",
    "    empties.copy(),\n",
    "    empties.copy(),\n",
    "    pawns.copy(),\n",
    "    good_pieces.copy(),     \n",
    "]\n",
    "chess"
   ]
  },
  {
   "cell_type": "code",
   "execution_count": 91,
   "id": "abf81fe0",
   "metadata": {},
   "outputs": [
    {
     "data": {
      "text/plain": [
       "[['R', '', 'B', 'Q', 'K', 'B', 'H', 'R'],\n",
       " ['P', 'P', 'P', 'P', 'P', 'P', 'P', 'P'],\n",
       " ['H', '', '', '', '', '', '', ''],\n",
       " ['', '', '', '', '', '', '', ''],\n",
       " ['', '', '', '', '', '', '', ''],\n",
       " ['', '', '', '', '', '', '', ''],\n",
       " ['P', 'P', 'P', 'P', 'P', 'P', 'P', 'P'],\n",
       " ['R', 'H', 'B', 'Q', 'K', 'B', 'H', 'R']]"
      ]
     },
     "execution_count": 91,
     "metadata": {},
     "output_type": "execute_result"
    }
   ],
   "source": [
    "# first move\n",
    "# chess[0][chess[0].index(\"H\")]\n",
    "chess[2][0] = chess[0][1]\n",
    "chess[0][1] = \"\"\n",
    "chess"
   ]
  },
  {
   "cell_type": "code",
   "execution_count": null,
   "id": "d5debc67",
   "metadata": {},
   "outputs": [],
   "source": []
  },
  {
   "cell_type": "code",
   "execution_count": 92,
   "id": "f1ca5b61",
   "metadata": {},
   "outputs": [
    {
     "data": {
      "text/plain": [
       "[1, 1.0, '1.0', [1, 2], 'True', 1, 2]"
      ]
     },
     "execution_count": 92,
     "metadata": {},
     "output_type": "execute_result"
    }
   ],
   "source": [
    "ex_list.extend(my_list)\n",
    "ex_list"
   ]
  },
  {
   "cell_type": "code",
   "execution_count": 115,
   "id": "85739bb2",
   "metadata": {},
   "outputs": [
    {
     "data": {
      "text/plain": [
       "{1, 2, 4, 5, 6}"
      ]
     },
     "execution_count": 115,
     "metadata": {},
     "output_type": "execute_result"
    }
   ],
   "source": [
    "l1 = {1,2,4}\n",
    "l2 = {4,5,6}\n",
    "l3 = {*l1,*l2}\n",
    "l3"
   ]
  },
  {
   "cell_type": "code",
   "execution_count": 104,
   "id": "cc3f7623",
   "metadata": {},
   "outputs": [],
   "source": [
    "# set\n",
    "## collection, unorderd, unidexed, no duplicates, mutable (chnageable)\n",
    "# ex_set = {1,2,3,4,1}\n",
    "# ex_set = set((1,2,3,4))\n",
    "ex_list.pop(-3)\n",
    "ex_set = set(ex_list)"
   ]
  },
  {
   "cell_type": "code",
   "execution_count": 105,
   "id": "13f2fd6f",
   "metadata": {},
   "outputs": [
    {
     "data": {
      "text/plain": [
       "{1, 2, 4}"
      ]
     },
     "execution_count": 105,
     "metadata": {},
     "output_type": "execute_result"
    }
   ],
   "source": [
    "ex_set.add(4)\n",
    "ex_set"
   ]
  },
  {
   "cell_type": "code",
   "execution_count": 113,
   "id": "c34b426c",
   "metadata": {},
   "outputs": [
    {
     "data": {
      "text/plain": [
       "{2, 4}"
      ]
     },
     "execution_count": 113,
     "metadata": {},
     "output_type": "execute_result"
    }
   ],
   "source": [
    "ex_set.remove(1)\n",
    "ex_set"
   ]
  },
  {
   "cell_type": "code",
   "execution_count": 110,
   "id": "f05897ec",
   "metadata": {},
   "outputs": [
    {
     "data": {
      "text/plain": [
       "{4}"
      ]
     },
     "execution_count": 110,
     "metadata": {},
     "output_type": "execute_result"
    }
   ],
   "source": [
    "ex_set1 = {1,2,5,6}\n",
    "ex_set - ex_set1"
   ]
  },
  {
   "cell_type": "code",
   "execution_count": 116,
   "id": "54ab52f7",
   "metadata": {},
   "outputs": [
    {
     "data": {
      "text/plain": [
       "(1, 2, 3, 4)"
      ]
     },
     "execution_count": 116,
     "metadata": {},
     "output_type": "execute_result"
    }
   ],
   "source": [
    "# tuple\n",
    "## collection, ordered, unmutable, indexed\n",
    "tuple1 = (1,2,3,4)\n",
    "tuple2 = ((2,3,4,5,56))\n",
    "tuple1"
   ]
  },
  {
   "cell_type": "code",
   "execution_count": 118,
   "id": "2511b56b",
   "metadata": {},
   "outputs": [
    {
     "data": {
      "text/plain": [
       "3"
      ]
     },
     "execution_count": 118,
     "metadata": {},
     "output_type": "execute_result"
    }
   ],
   "source": [
    "tuple1[2]"
   ]
  },
  {
   "cell_type": "code",
   "execution_count": 122,
   "id": "a9438b8d",
   "metadata": {},
   "outputs": [
    {
     "ename": "SyntaxError",
     "evalue": "expression cannot contain assignment, perhaps you meant \"==\"? (1132347848.py, line 4)",
     "output_type": "error",
     "traceback": [
      "  \u001b[36mCell\u001b[39m\u001b[36m \u001b[39m\u001b[32mIn[122]\u001b[39m\u001b[32m, line 4\u001b[39m\n\u001b[31m    \u001b[39m\u001b[31mdict1 = dict(name=\"Nate\", age=\"39\", 1=ex_list1)\u001b[39m\n                                        ^\n\u001b[31mSyntaxError\u001b[39m\u001b[31m:\u001b[39m expression cannot contain assignment, perhaps you meant \"==\"?\n"
     ]
    }
   ],
   "source": [
    "# dictionaries\n",
    "## key:value pairs, indexed by key, allow duplicates, mutable\n",
    "dict1 = {}\n",
    "dict1 = dict(name=\"Nate\", age=\"39\", 1=ex_list1)\n",
    "dict1"
   ]
  },
  {
   "cell_type": "code",
   "execution_count": 125,
   "id": "f2a44311",
   "metadata": {},
   "outputs": [
    {
     "data": {
      "text/plain": [
       "('Nate', 39)"
      ]
     },
     "execution_count": 125,
     "metadata": {},
     "output_type": "execute_result"
    }
   ],
   "source": [
    "# access a dictinary \n",
    "# bracket notation\n",
    "dict1[\"name\"], dict1[\"age\"]"
   ]
  },
  {
   "cell_type": "code",
   "execution_count": 126,
   "id": "e633ab36",
   "metadata": {},
   "outputs": [
    {
     "data": {
      "text/plain": [
       "{'name': 'Nate', 'age': 39, 1: 'A number'}"
      ]
     },
     "execution_count": 126,
     "metadata": {},
     "output_type": "execute_result"
    }
   ],
   "source": [
    "dict1[1] = \"A number\"\n",
    "dict1"
   ]
  },
  {
   "cell_type": "code",
   "execution_count": 127,
   "id": "5067baab",
   "metadata": {},
   "outputs": [
    {
     "data": {
      "text/plain": [
       "'A number'"
      ]
     },
     "execution_count": 127,
     "metadata": {},
     "output_type": "execute_result"
    }
   ],
   "source": [
    "dict1[1]"
   ]
  },
  {
   "cell_type": "code",
   "execution_count": 128,
   "id": "a1fa51c6",
   "metadata": {},
   "outputs": [
    {
     "data": {
      "text/plain": [
       "'Nate'"
      ]
     },
     "execution_count": 128,
     "metadata": {},
     "output_type": "execute_result"
    }
   ],
   "source": [
    "n = \"name\"\n",
    "dict1[n]"
   ]
  },
  {
   "cell_type": "code",
   "execution_count": 133,
   "id": "469c2ebf",
   "metadata": {},
   "outputs": [
    {
     "ename": "KeyError",
     "evalue": "'food'",
     "output_type": "error",
     "traceback": [
      "\u001b[31m---------------------------------------------------------------------------\u001b[39m",
      "\u001b[31mKeyError\u001b[39m                                  Traceback (most recent call last)",
      "\u001b[36mCell\u001b[39m\u001b[36m \u001b[39m\u001b[32mIn[133]\u001b[39m\u001b[32m, line 10\u001b[39m\n\u001b[32m      4\u001b[39m favorite_food = \u001b[38;5;28minput\u001b[39m(\u001b[33m\"\u001b[39m\u001b[33mWhat is youre favorite food?\u001b[39m\u001b[33m\"\u001b[39m)\n\u001b[32m      5\u001b[39m person = {\n\u001b[32m      6\u001b[39m     \u001b[33m\"\u001b[39m\u001b[33mname\u001b[39m\u001b[33m\"\u001b[39m:name,\n\u001b[32m      7\u001b[39m     \u001b[33m\"\u001b[39m\u001b[33mage\u001b[39m\u001b[33m\"\u001b[39m: age,\n\u001b[32m      8\u001b[39m     \u001b[33m\"\u001b[39m\u001b[33mlocation\u001b[39m\u001b[33m\"\u001b[39m: location,\n\u001b[32m      9\u001b[39m }\n\u001b[32m---> \u001b[39m\u001b[32m10\u001b[39m \u001b[38;5;28mprint\u001b[39m(\u001b[33mf\u001b[39m\u001b[33m\"\u001b[39m\u001b[33mMy name is \u001b[39m\u001b[38;5;132;01m{\u001b[39;00mperson[\u001b[33m'\u001b[39m\u001b[33mname\u001b[39m\u001b[33m'\u001b[39m]\u001b[38;5;132;01m}\u001b[39;00m\u001b[33m, and I like \u001b[39m\u001b[38;5;132;01m{\u001b[39;00mperson[\u001b[33m'\u001b[39m\u001b[33mfood\u001b[39m\u001b[33m'\u001b[39m]\u001b[38;5;132;01m}\u001b[39;00m\u001b[33m\"\u001b[39m)\n",
      "\u001b[31mKeyError\u001b[39m: 'food'"
     ]
    }
   ],
   "source": [
    "name = \"Nate\"\n",
    "age = 39\n",
    "location = \"Charlotte\"\n",
    "favorite_food = input(\"What is youre favorite food?\")\n",
    "person = {\n",
    "    \"name\":name,\n",
    "    \"age\": age,\n",
    "    \"location\": location,\n",
    "}\n",
    "print(f\"My name is {person['name']}, and I like {person['food']}\")"
   ]
  },
  {
   "cell_type": "code",
   "execution_count": null,
   "id": "15b771f7",
   "metadata": {},
   "outputs": [],
   "source": []
  }
 ],
 "metadata": {
  "kernelspec": {
   "display_name": "CDA101",
   "language": "python",
   "name": "python3"
  },
  "language_info": {
   "codemirror_mode": {
    "name": "ipython",
    "version": 3
   },
   "file_extension": ".py",
   "mimetype": "text/x-python",
   "name": "python",
   "nbconvert_exporter": "python",
   "pygments_lexer": "ipython3",
   "version": "3.13.5"
  }
 },
 "nbformat": 4,
 "nbformat_minor": 5
}
